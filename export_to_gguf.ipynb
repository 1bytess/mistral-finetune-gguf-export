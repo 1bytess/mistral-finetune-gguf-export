{
 "cells": [
  {
   "cell_type": "markdown",
   "metadata": {},
   "source": [
    "## **1. Save Model, Tokenizer and LoRA Checkpoint**"
   ]
  },
  {
   "cell_type": "markdown",
   "metadata": {},
   "source": [
    "First, we want to create a script to save the model, tokenizer, and LoRA checkpoint (which you have uploaded) to a file that we can then transform to GGUF."
   ]
  },
  {
   "cell_type": "code",
   "execution_count": 1,
   "metadata": {},
   "outputs": [
    {
     "name": "stdout",
     "output_type": "stream",
     "text": [
      "Requirement already satisfied: transformers in c:\\users\\zealo\\documents\\mistral_zrah_model\\.venv\\lib\\site-packages (4.50.1)\n",
      "Requirement already satisfied: torch in c:\\users\\zealo\\documents\\mistral_zrah_model\\.venv\\lib\\site-packages (2.6.0+cu126)\n",
      "Requirement already satisfied: torchvision in c:\\users\\zealo\\documents\\mistral_zrah_model\\.venv\\lib\\site-packages (0.21.0+cu126)\n",
      "Requirement already satisfied: torchaudio in c:\\users\\zealo\\documents\\mistral_zrah_model\\.venv\\lib\\site-packages (2.6.0+cu126)\n",
      "Requirement already satisfied: peft in c:\\users\\zealo\\documents\\mistral_zrah_model\\.venv\\lib\\site-packages (0.15.1.dev0)\n",
      "Requirement already satisfied: accelerate in c:\\users\\zealo\\documents\\mistral_zrah_model\\.venv\\lib\\site-packages (1.5.2)\n",
      "Requirement already satisfied: sentencepiece in c:\\users\\zealo\\documents\\mistral_zrah_model\\.venv\\lib\\site-packages (0.2.0)\n",
      "Requirement already satisfied: gguf in c:\\users\\zealo\\documents\\mistral_zrah_model\\.venv\\lib\\site-packages (0.14.0)\n",
      "Requirement already satisfied: filelock in c:\\users\\zealo\\documents\\mistral_zrah_model\\.venv\\lib\\site-packages (from transformers) (3.18.0)\n",
      "Requirement already satisfied: huggingface-hub<1.0,>=0.26.0 in c:\\users\\zealo\\documents\\mistral_zrah_model\\.venv\\lib\\site-packages (from transformers) (0.29.3)\n",
      "Requirement already satisfied: numpy>=1.17 in c:\\users\\zealo\\documents\\mistral_zrah_model\\.venv\\lib\\site-packages (from transformers) (2.2.4)\n",
      "Requirement already satisfied: packaging>=20.0 in c:\\users\\zealo\\documents\\mistral_zrah_model\\.venv\\lib\\site-packages (from transformers) (24.2)\n",
      "Requirement already satisfied: pyyaml>=5.1 in c:\\users\\zealo\\documents\\mistral_zrah_model\\.venv\\lib\\site-packages (from transformers) (6.0.2)\n",
      "Requirement already satisfied: regex!=2019.12.17 in c:\\users\\zealo\\documents\\mistral_zrah_model\\.venv\\lib\\site-packages (from transformers) (2024.11.6)\n",
      "Requirement already satisfied: requests in c:\\users\\zealo\\documents\\mistral_zrah_model\\.venv\\lib\\site-packages (from transformers) (2.32.3)\n",
      "Requirement already satisfied: tokenizers<0.22,>=0.21 in c:\\users\\zealo\\documents\\mistral_zrah_model\\.venv\\lib\\site-packages (from transformers) (0.21.1)\n",
      "Requirement already satisfied: safetensors>=0.4.3 in c:\\users\\zealo\\documents\\mistral_zrah_model\\.venv\\lib\\site-packages (from transformers) (0.5.3)\n",
      "Requirement already satisfied: tqdm>=4.27 in c:\\users\\zealo\\documents\\mistral_zrah_model\\.venv\\lib\\site-packages (from transformers) (4.67.1)\n",
      "Requirement already satisfied: typing-extensions>=4.10.0 in c:\\users\\zealo\\documents\\mistral_zrah_model\\.venv\\lib\\site-packages (from torch) (4.13.0)\n",
      "Requirement already satisfied: networkx in c:\\users\\zealo\\documents\\mistral_zrah_model\\.venv\\lib\\site-packages (from torch) (3.4.2)\n",
      "Requirement already satisfied: jinja2 in c:\\users\\zealo\\documents\\mistral_zrah_model\\.venv\\lib\\site-packages (from torch) (3.1.6)\n",
      "Requirement already satisfied: fsspec in c:\\users\\zealo\\documents\\mistral_zrah_model\\.venv\\lib\\site-packages (from torch) (2024.12.0)\n",
      "Requirement already satisfied: sympy==1.13.1 in c:\\users\\zealo\\documents\\mistral_zrah_model\\.venv\\lib\\site-packages (from torch) (1.13.1)\n",
      "Requirement already satisfied: mpmath<1.4,>=1.1.0 in c:\\users\\zealo\\documents\\mistral_zrah_model\\.venv\\lib\\site-packages (from sympy==1.13.1->torch) (1.3.0)\n",
      "Requirement already satisfied: pillow!=8.3.*,>=5.3.0 in c:\\users\\zealo\\documents\\mistral_zrah_model\\.venv\\lib\\site-packages (from torchvision) (11.0.0)\n",
      "Requirement already satisfied: psutil in c:\\users\\zealo\\documents\\mistral_zrah_model\\.venv\\lib\\site-packages (from peft) (7.0.0)\n",
      "Requirement already satisfied: colorama in c:\\users\\zealo\\documents\\mistral_zrah_model\\.venv\\lib\\site-packages (from tqdm>=4.27->transformers) (0.4.6)\n",
      "Requirement already satisfied: MarkupSafe>=2.0 in c:\\users\\zealo\\documents\\mistral_zrah_model\\.venv\\lib\\site-packages (from jinja2->torch) (3.0.2)\n",
      "Requirement already satisfied: charset-normalizer<4,>=2 in c:\\users\\zealo\\documents\\mistral_zrah_model\\.venv\\lib\\site-packages (from requests->transformers) (3.4.1)\n",
      "Requirement already satisfied: idna<4,>=2.5 in c:\\users\\zealo\\documents\\mistral_zrah_model\\.venv\\lib\\site-packages (from requests->transformers) (3.10)\n",
      "Requirement already satisfied: urllib3<3,>=1.21.1 in c:\\users\\zealo\\documents\\mistral_zrah_model\\.venv\\lib\\site-packages (from requests->transformers) (2.3.0)\n",
      "Requirement already satisfied: certifi>=2017.4.17 in c:\\users\\zealo\\documents\\mistral_zrah_model\\.venv\\lib\\site-packages (from requests->transformers) (2025.1.31)\n",
      "Note: you may need to restart the kernel to use updated packages.\n"
     ]
    },
    {
     "name": "stderr",
     "output_type": "stream",
     "text": [
      "\n",
      "[notice] A new release of pip is available: 24.0 -> 25.0.1\n",
      "[notice] To update, run: python.exe -m pip install --upgrade pip\n"
     ]
    },
    {
     "name": "stdout",
     "output_type": "stream",
     "text": [
      "Collecting git+https://github.com/huggingface/peft.git\n",
      "  Cloning https://github.com/huggingface/peft.git to c:\\users\\zealo\\appdata\\local\\temp\\pip-req-build-_1w348qm\n",
      "  Resolved https://github.com/huggingface/peft.git to commit 986b77c213db1c98962c4e1949392287731c6387\n",
      "  Installing build dependencies: started\n",
      "  Installing build dependencies: finished with status 'done'\n",
      "  Getting requirements to build wheel: started\n",
      "  Getting requirements to build wheel: finished with status 'done'\n",
      "  Preparing metadata (pyproject.toml): started\n",
      "  Preparing metadata (pyproject.toml): finished with status 'done'\n",
      "Requirement already satisfied: numpy>=1.17 in c:\\users\\zealo\\documents\\mistral_zrah_model\\.venv\\lib\\site-packages (from peft==0.15.1.dev0) (2.2.4)\n",
      "Requirement already satisfied: packaging>=20.0 in c:\\users\\zealo\\documents\\mistral_zrah_model\\.venv\\lib\\site-packages (from peft==0.15.1.dev0) (24.2)\n",
      "Requirement already satisfied: psutil in c:\\users\\zealo\\documents\\mistral_zrah_model\\.venv\\lib\\site-packages (from peft==0.15.1.dev0) (7.0.0)\n",
      "Requirement already satisfied: pyyaml in c:\\users\\zealo\\documents\\mistral_zrah_model\\.venv\\lib\\site-packages (from peft==0.15.1.dev0) (6.0.2)\n",
      "Requirement already satisfied: torch>=1.13.0 in c:\\users\\zealo\\documents\\mistral_zrah_model\\.venv\\lib\\site-packages (from peft==0.15.1.dev0) (2.6.0+cu126)\n",
      "Requirement already satisfied: transformers in c:\\users\\zealo\\documents\\mistral_zrah_model\\.venv\\lib\\site-packages (from peft==0.15.1.dev0) (4.50.1)\n",
      "Requirement already satisfied: tqdm in c:\\users\\zealo\\documents\\mistral_zrah_model\\.venv\\lib\\site-packages (from peft==0.15.1.dev0) (4.67.1)\n",
      "Requirement already satisfied: accelerate>=0.21.0 in c:\\users\\zealo\\documents\\mistral_zrah_model\\.venv\\lib\\site-packages (from peft==0.15.1.dev0) (1.5.2)\n",
      "Requirement already satisfied: safetensors in c:\\users\\zealo\\documents\\mistral_zrah_model\\.venv\\lib\\site-packages (from peft==0.15.1.dev0) (0.5.3)\n",
      "Requirement already satisfied: huggingface_hub>=0.25.0 in c:\\users\\zealo\\documents\\mistral_zrah_model\\.venv\\lib\\site-packages (from peft==0.15.1.dev0) (0.29.3)\n",
      "Requirement already satisfied: filelock in c:\\users\\zealo\\documents\\mistral_zrah_model\\.venv\\lib\\site-packages (from huggingface_hub>=0.25.0->peft==0.15.1.dev0) (3.18.0)\n",
      "Requirement already satisfied: fsspec>=2023.5.0 in c:\\users\\zealo\\documents\\mistral_zrah_model\\.venv\\lib\\site-packages (from huggingface_hub>=0.25.0->peft==0.15.1.dev0) (2024.12.0)\n",
      "Requirement already satisfied: requests in c:\\users\\zealo\\documents\\mistral_zrah_model\\.venv\\lib\\site-packages (from huggingface_hub>=0.25.0->peft==0.15.1.dev0) (2.32.3)\n",
      "Requirement already satisfied: typing-extensions>=3.7.4.3 in c:\\users\\zealo\\documents\\mistral_zrah_model\\.venv\\lib\\site-packages (from huggingface_hub>=0.25.0->peft==0.15.1.dev0) (4.13.0)\n",
      "Requirement already satisfied: networkx in c:\\users\\zealo\\documents\\mistral_zrah_model\\.venv\\lib\\site-packages (from torch>=1.13.0->peft==0.15.1.dev0) (3.4.2)\n",
      "Requirement already satisfied: jinja2 in c:\\users\\zealo\\documents\\mistral_zrah_model\\.venv\\lib\\site-packages (from torch>=1.13.0->peft==0.15.1.dev0) (3.1.6)\n",
      "Requirement already satisfied: sympy==1.13.1 in c:\\users\\zealo\\documents\\mistral_zrah_model\\.venv\\lib\\site-packages (from torch>=1.13.0->peft==0.15.1.dev0) (1.13.1)\n",
      "Requirement already satisfied: mpmath<1.4,>=1.1.0 in c:\\users\\zealo\\documents\\mistral_zrah_model\\.venv\\lib\\site-packages (from sympy==1.13.1->torch>=1.13.0->peft==0.15.1.dev0) (1.3.0)\n",
      "Requirement already satisfied: colorama in c:\\users\\zealo\\documents\\mistral_zrah_model\\.venv\\lib\\site-packages (from tqdm->peft==0.15.1.dev0) (0.4.6)\n",
      "Requirement already satisfied: regex!=2019.12.17 in c:\\users\\zealo\\documents\\mistral_zrah_model\\.venv\\lib\\site-packages (from transformers->peft==0.15.1.dev0) (2024.11.6)\n",
      "Requirement already satisfied: tokenizers<0.22,>=0.21 in c:\\users\\zealo\\documents\\mistral_zrah_model\\.venv\\lib\\site-packages (from transformers->peft==0.15.1.dev0) (0.21.1)\n",
      "Requirement already satisfied: MarkupSafe>=2.0 in c:\\users\\zealo\\documents\\mistral_zrah_model\\.venv\\lib\\site-packages (from jinja2->torch>=1.13.0->peft==0.15.1.dev0) (3.0.2)\n",
      "Requirement already satisfied: charset-normalizer<4,>=2 in c:\\users\\zealo\\documents\\mistral_zrah_model\\.venv\\lib\\site-packages (from requests->huggingface_hub>=0.25.0->peft==0.15.1.dev0) (3.4.1)\n",
      "Requirement already satisfied: idna<4,>=2.5 in c:\\users\\zealo\\documents\\mistral_zrah_model\\.venv\\lib\\site-packages (from requests->huggingface_hub>=0.25.0->peft==0.15.1.dev0) (3.10)\n",
      "Requirement already satisfied: urllib3<3,>=1.21.1 in c:\\users\\zealo\\documents\\mistral_zrah_model\\.venv\\lib\\site-packages (from requests->huggingface_hub>=0.25.0->peft==0.15.1.dev0) (2.3.0)\n",
      "Requirement already satisfied: certifi>=2017.4.17 in c:\\users\\zealo\\documents\\mistral_zrah_model\\.venv\\lib\\site-packages (from requests->huggingface_hub>=0.25.0->peft==0.15.1.dev0) (2025.1.31)\n",
      "Note: you may need to restart the kernel to use updated packages.\n"
     ]
    },
    {
     "name": "stderr",
     "output_type": "stream",
     "text": [
      "  Running command git clone --filter=blob:none --quiet https://github.com/huggingface/peft.git 'C:\\Users\\zealo\\AppData\\Local\\Temp\\pip-req-build-_1w348qm'\n",
      "\n",
      "[notice] A new release of pip is available: 24.0 -> 25.0.1\n",
      "[notice] To update, run: python.exe -m pip install --upgrade pip\n"
     ]
    }
   ],
   "source": [
    "\n",
    "%pip install transformers torch torchvision torchaudio peft accelerate sentencepiece gguf\n",
    "%pip install -U git+https://github.com/huggingface/peft.git"
   ]
  },
  {
   "cell_type": "code",
   "execution_count": 5,
   "metadata": {},
   "outputs": [
    {
     "name": "stdout",
     "output_type": "stream",
     "text": [
      "Overwriting save_model.py\n"
     ]
    }
   ],
   "source": [
    "%%writefile save_model.py\n",
    "from transformers import AutoModelForCausalLM, AutoTokenizer\n",
    "from peft import PeftModel\n",
    "import os\n",
    "import torch\n",
    "import argparse\n",
    " \n",
    "def main():\n",
    " \n",
    "    parser = argparse.ArgumentParser()\n",
    "    parser.add_argument(\"--model\", type=str)\n",
    "    parser.add_argument(\"--lora\", type=str)\n",
    "    parser.add_argument(\"--out_dir\", type=str, default=\"./model\") # leave this\n",
    "    args = parser.parse_args()\n",
    " \n",
    "    print(f\"Loading base model: {args.model}\")\n",
    "    base_model = AutoModelForCausalLM.from_pretrained(args.model, torch_dtype=torch.float16, device_map=\"auto\")\n",
    " \n",
    "    print(f\"Loading PEFT: {args.lora}\")\n",
    "    model = PeftModel.from_pretrained(base_model, args.lora)\n",
    "    print(f\"Running merge_and_unload\")\n",
    "    model = model.merge_and_unload()\n",
    "    tokenizer = AutoTokenizer.from_pretrained(args.model)\n",
    " \n",
    "    model.save_pretrained(f\"{args.out_dir}\")\n",
    "    tokenizer.save_pretrained(f\"{args.out_dir}\")\n",
    "    print(f\"Model saved to {args.out_dir}\")\n",
    " \n",
    "if __name__ == \"__main__\" :\n",
    "    main()"
   ]
  },
  {
   "cell_type": "code",
   "execution_count": 4,
   "metadata": {},
   "outputs": [
    {
     "name": "stdout",
     "output_type": "stream",
     "text": [
      "Loading base model: mistralai/Mistral-7B-Instruct-v0.3\n",
      "Loading PEFT: mistral-journal-finetune/checkpoint-500\n"
     ]
    },
    {
     "name": "stderr",
     "output_type": "stream",
     "text": [
      "\n",
      "Loading checkpoint shards:   0%|          | 0/3 [00:00<?, ?it/s]\n",
      "Loading checkpoint shards:  33%|███▎      | 1/3 [00:03<00:06,  3.15s/it]\n",
      "Loading checkpoint shards:  67%|██████▋   | 2/3 [00:05<00:02,  2.57s/it]\n",
      "Loading checkpoint shards: 100%|██████████| 3/3 [00:07<00:00,  2.17s/it]\n",
      "Loading checkpoint shards: 100%|██████████| 3/3 [00:07<00:00,  2.33s/it]\n",
      "Some parameters are on the meta device because they were offloaded to the cpu.\n",
      "c:\\Users\\zealo\\Documents\\mistral_zrah_model\\.venv\\Lib\\site-packages\\accelerate\\utils\\modeling.py:1569: UserWarning: Current model requires 256 bytes of buffer for offloaded layers, which seems does not fit any GPU's remaining memory. If you are experiencing a OOM later, please consider using offload_buffers=True.\n",
      "  warnings.warn(\n",
      "Traceback (most recent call last):\n",
      "  File \"c:\\Users\\zealo\\Documents\\mistral_zrah_model\\model_trainer\\save_model.py\", line 34, in <module>\n",
      "    main()\n",
      "  File \"c:\\Users\\zealo\\Documents\\mistral_zrah_model\\model_trainer\\save_model.py\", line 24, in main\n",
      "    model = PeftModel.from_pretrained(base_model, args.lora)\n",
      "            ^^^^^^^^^^^^^^^^^^^^^^^^^^^^^^^^^^^^^^^^^^^^^^^^\n",
      "  File \"c:\\Users\\zealo\\Documents\\mistral_zrah_model\\.venv\\Lib\\site-packages\\peft\\peft_model.py\", line 541, in from_pretrained\n",
      "    load_result = model.load_adapter(\n",
      "                  ^^^^^^^^^^^^^^^^^^^\n",
      "  File \"c:\\Users\\zealo\\Documents\\mistral_zrah_model\\.venv\\Lib\\site-packages\\peft\\peft_model.py\", line 1330, in load_adapter\n",
      "    dispatch_model(\n",
      "  File \"c:\\Users\\zealo\\Documents\\mistral_zrah_model\\.venv\\Lib\\site-packages\\accelerate\\big_modeling.py\", line 380, in dispatch_model\n",
      "    raise ValueError(\n",
      "ValueError: We need an `offload_dir` to dispatch this model according to this `device_map`, the following submodules need to be offloaded: base_model.model.model.layers.29, base_model.model.model.layers.30, base_model.model.model.layers.31, base_model.model.model.norm, base_model.model.model.rotary_emb, base_model.model.lm_head.\n"
     ]
    }
   ],
   "source": [
    "!python save_model.py --model \"mistralai/Mistral-7B-Instruct-v0.3\" --lora \"mistral-journal-finetune/checkpoint-500\"\n"
   ]
  },
  {
   "cell_type": "markdown",
   "metadata": {},
   "source": [
    "## **2. Convert to GGUF**"
   ]
  },
  {
   "cell_type": "code",
   "execution_count": null,
   "metadata": {},
   "outputs": [],
   "source": [
    "%curl -L -o convert.py https://github.com/ggerganov/llama.cpp/raw/master/convert.py\n",
    "%curl -L -o requirements.txt https://github.com/ggerganov/llama.cpp/raw/master/requirements.txt\n",
    "\n",
    "%pip install -r requirements.txt\n",
    "\n",
    "# Convert the 7B model to ggml FP16 format\n",
    "%python convert.py model\n",
    "\n",
    "## Code below is optional - uncomment (remove leftmost '# ') to use\n",
    "\n",
    "# # [Optional] for models using BPE tokenizers\n",
    "# %python convert.py model --vocabtype bpe\n",
    "\n",
    "# # [Optional] quantize the model to 4-bits (using q4_0 method)\n",
    "# %./quantize ./model/ggml-model-f16.gguf ./model/ggml-model-q4_0.gguf q4_0\n",
    "\n",
    "# # [Optional] update the gguf filetype to current if older version is unsupported by another application\n",
    "%./quantize ./model/ggml-model-q4_0.gguf ./model/ggml-model-q4_0-v2.gguf COPY"
   ]
  }
 ],
 "metadata": {
  "kernelspec": {
   "display_name": ".venv",
   "language": "python",
   "name": "python3"
  },
  "language_info": {
   "codemirror_mode": {
    "name": "ipython",
    "version": 3
   },
   "file_extension": ".py",
   "mimetype": "text/x-python",
   "name": "python",
   "nbconvert_exporter": "python",
   "pygments_lexer": "ipython3",
   "version": "3.11.9"
  }
 },
 "nbformat": 4,
 "nbformat_minor": 2
}
